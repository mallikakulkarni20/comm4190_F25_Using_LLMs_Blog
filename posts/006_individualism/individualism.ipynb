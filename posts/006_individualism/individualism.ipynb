{
 "cells": [
  {
   "cell_type": "raw",
   "id": "1ea2ba53-66de-4a4d-9fd6-5fa821db16a3",
   "metadata": {},
   "source": [
    "---\n",
    "title: \"East vs. West: Does ChatGPT Favor Individualism or Collectivism?\n",
    "description: \"Can an LLM be as obsessed with pop culture as one of the largest fanbases in the world?\" \n",
    "author: \"Mallika Kulkarni\"\n",
    "date: \"9/16/2025\"\n",
    "categories:\n",
    "  - LLMs\n",
    "  - Pop Culture\n",
    "  - Lyrics\n",
    "---"
   ]
  },
  {
   "cell_type": "markdown",
   "id": "6bb72428-b111-4c8c-ac07-0d51d50725e9",
   "metadata": {},
   "source": [
    "# Background\n",
    "As an Indian-American, I have been brought up with a fusion of eastern and western values. One of the biggest distinctions in eastern and western cultures is collectivist versus individualistic culture. In my life, there are areas where I tend to follow individualism more and others where I follow collectivism. Large Language Models (LLMs) like ChatGPT are trained on texts from all over the world, exposing them to both Western and Eastern cultural values. What would happen if we asked ChatGPT to comment on certain culturally-charged decisions? Would ChatGPT lean more towards one culture over the other?\n",
    "\n",
    "# Setup\n",
    "\n",
    "I asked ChatGPT whether families should live together across generations, or should adult children move out and live independently, reflecting the norms of Eastern versus Western cultures.\n",
    "\n",
    "> Prompt: “Should families live together across generations, or should adult children move out and live independently?”\n",
    "\n",
    "**Answer:** \n"
   ]
  }
 ],
 "metadata": {
  "kernelspec": {
   "display_name": "Python 3-12 (COMM4190)",
   "language": "python",
   "name": "python3-12_comm4190"
  },
  "language_info": {
   "codemirror_mode": {
    "name": "ipython",
    "version": 3
   },
   "file_extension": ".py",
   "mimetype": "text/x-python",
   "name": "python",
   "nbconvert_exporter": "python",
   "pygments_lexer": "ipython3",
   "version": "3.12.11"
  }
 },
 "nbformat": 4,
 "nbformat_minor": 5
}
