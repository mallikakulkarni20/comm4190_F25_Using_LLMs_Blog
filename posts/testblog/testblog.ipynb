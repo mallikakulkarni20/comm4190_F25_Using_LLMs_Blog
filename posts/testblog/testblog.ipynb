{
 "cells": [
  {
   "cell_type": "markdown",
   "id": "b8efc286-b3f8-45a8-bd08-3c42a6176aff",
   "metadata": {},
   "source": [
    "testhihi\n"
   ]
  }
 ],
 "metadata": {
  "kernelspec": {
   "display_name": "Python 3-12 (COMM4190)",
   "language": "python",
   "name": "python3-12_comm4190"
  },
  "language_info": {
   "codemirror_mode": {
    "name": "ipython",
    "version": 3
   },
   "file_extension": ".py",
   "mimetype": "text/x-python",
   "name": "python",
   "nbconvert_exporter": "python",
   "pygments_lexer": "ipython3",
   "version": "3.12.11"
  }
 },
 "nbformat": 4,
 "nbformat_minor": 5
}
