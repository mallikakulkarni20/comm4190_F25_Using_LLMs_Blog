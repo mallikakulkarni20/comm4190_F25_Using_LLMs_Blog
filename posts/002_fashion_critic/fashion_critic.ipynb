{
 "cells": [
  {
   "cell_type": "raw",
   "id": "44bcc9ca-c6d6-4ce3-97e1-364bb0ea8c4f",
   "metadata": {},
   "source": [
    "---\n",
    "title: \"ChatGPT as a Fashion Critic\"\n",
    "description: \"How well does GPT know fashion? Will it be kind to my social media posts and cruel when I ask it to?\" \n",
    "author: \"Mallika Kulkarni\"\n",
    "date: \"9/8/2025\"\n",
    "categories:\n",
    "  - Pop Culture\n",
    "  - Trends\n",
    "  - Personas\n",
    "---"
   ]
  }
 ],
 "metadata": {
  "kernelspec": {
   "display_name": "Python 3-12 (COMM4190)",
   "language": "python",
   "name": "python3-12_comm4190"
  },
  "language_info": {
   "codemirror_mode": {
    "name": "ipython",
    "version": 3
   },
   "file_extension": ".py",
   "mimetype": "text/x-python",
   "name": "python",
   "nbconvert_exporter": "python",
   "pygments_lexer": "ipython3",
   "version": "3.12.11"
  }
 },
 "nbformat": 4,
 "nbformat_minor": 5
}
