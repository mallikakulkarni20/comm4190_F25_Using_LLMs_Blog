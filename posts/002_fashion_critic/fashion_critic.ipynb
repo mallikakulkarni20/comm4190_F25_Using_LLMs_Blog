{
 "cells": [
  {
   "cell_type": "raw",
   "id": "44bcc9ca-c6d6-4ce3-97e1-364bb0ea8c4f",
   "metadata": {},
   "source": [
    "---\n",
    "title: \"ChatGPT as a Fashion Critic\"\n",
    "description: \"How well does GPT know fashion? Will it be kind to my social media posts and cruel when I ask it to?\" \n",
    "author: \"Mallika Kulkarni\"\n",
    "date: \"9/8/2025\"\n",
    "categories:\n",
    "  - Pop Culture\n",
    "  - Trends\n",
    "  - Personas\n",
    "---"
   ]
  },
  {
   "cell_type": "markdown",
   "id": "ed79d18f-8926-4b2e-b7ed-2478ca40d112",
   "metadata": {},
   "source": [
    "## Background\n",
    "\n",
    "What happens when you hand your digital wardrobe over to an LLM and ask it to **form an opinion on your fashion sense**?\n",
    "\n",
    "For this experiment, I fed ChatGPT some pictures of outfits, a couple that I’ve posted on **my Instagram**.\n",
    "\n",
    "![](profile.png)\n",
    "\n",
    "The motivation behind this is to ascertain what will happen as LLMs insert themselves into social media as commenting bots or ad generators. I specifically sacrificed my Instagram, rather than stock photos, to get the data and results that I am most interested in.\n",
    "\n",
    "Then I asked it to review them in with **three distinct personas**:\n",
    "\n",
    "* A Vogue fashion editor\n",
    "* A TikTok fashion influencer\n",
    "* A friend who supports you through any decision\n",
    "\n",
    "\n",
    "Let's see how well GPT understands fashion contextually. Can an LLM analyze not just colors and fabrics, but also trends, fit, and aesthetics?\n"
   ]
  },
  {
   "cell_type": "markdown",
   "id": "2969ce00-5a84-402a-a460-b957e0958575",
   "metadata": {},
   "source": [
    "## The Inputs\n",
    "### Outfit 1: Winter Sweater\n",
    "\n",
    "![](sweater.png)\n",
    "\n",
    "### Outfit 2: Cultural Clothing\n",
    "\n",
    "![](cultural.png)\n",
    "\n",
    "### Outfit 3: Greece Casual\n",
    "\n",
    "![](greece.png)"
   ]
  },
  {
   "cell_type": "markdown",
   "id": "dc622fff-3cbf-4976-8b9f-fd4c3b2683f6",
   "metadata": {
    "jp-MarkdownHeadingCollapsed": true
   },
   "source": [
    "## The Reviews (Harsh or Kind?)\n",
    "### 1. Vogue Fashion Editor\n",
    "\n",
    "> Prompt for each outfit: “Describe this outfit in the voice of a senior fashion editor at Vogue reviewing runway looks.”\n",
    "\n",
    "##### Outfit 1: Winter Sweater\n",
    "\"Cozy, yet deliberate\"\n",
    " This ensemble whispers understated chic. The oversized striped turtleneck sweater drapes with ease, pairing comfort with quiet sophistication. The soft palette of cool grays and blues is punctuated by a pop of pink from the handbag—an editorial touch that prevents the look from sliding into anonymity. It’s winter dressing at its most approachable: functional warmth elevated with a fashion-forward wink.\n",
    "\n",
    "##### Outfit 2: Cultural Clothing\n",
    "\"A triumph of heritage as haute couture\"\n",
    " Here, tradition is transformed into spectacle. The fuchsia lehenga is unapologetically bold, its golden embroidery and zari work shimmering like threads of sunlight. The striped dupatta slung across the shoulder modernizes the silhouette, making it less museum piece, more runway force. Accessories are chosen with precision: a structured potli bag in tonal embroidery and gleaming bangles that echo the fabric’s luster. This is cultural clothing not as costume, but as couture—alive, radiant, and utterly commanding.\n",
    "\n",
    "##### Outfit 3: Greece Casual\n",
    "\"Effortless wanderlust in motion\"\n",
    " Against the raw stone frame and endless Aegean backdrop, the look feels cinematic. A red sleeveless top is paired with flowing white trousers, the palette a deliberate nod to Mediterranean contrasts. The crossbody bag adds artisanal charm, its geometric patchwork quietly bohemian. Hair loose, arms raised, the outfit breathes freedom—an embodiment of travel chic where ease is the ultimate luxury.\n",
    "\n",
    "###### My comments\n",
    "\n",
    "I think that the LLM did well embodying the Vogue fashion editor persona. It was able to draw on a lot of external context when describing the outfits I sent it. Not only this, but it also was creative and unique in its description, making inferences about my intentions wearing the outfit rather than just turning image directly to text.\n",
    "\n",
    "### 2. TikTok Fashion Influencer\n",
    "\n",
    "> Prompt for each outfit: “Rate this outfit like a TikTok fashion influencer doing a reaction video to someone’s instagram outfits. Be as kind as you want or roast them as much as you want.”\n",
    "\n",
    "##### Outfit 1: Winter Sweater\n",
    "Okayyy cozy vibes but also giving \"I stole this from my dad’s closet\" realness 😂 The stripes are safe, the turtleneck is warm, but it’s giving less sleigh queen and more sleigh ride with grandma. That said, the pink bag is a cute pop—like yes, accessorizeeee! Honestly, 6.5/10: solidly cute, but could use a little more main character energy.\n",
    "\n",
    "##### Outfit 2: Cultural Clothing\n",
    "STOP. THE. SHOW. 🔥🔥🔥 This hot pink + gold embroidery + striped dupatta? She’s not just attending the wedding, she IS the wedding. The matching embroidered purse?? Dead. This is giving regal Bollywood princess energy and I’m obsessed. If you’re not breaking necks walking in, are you even doing it right? 11/10. No notes. Perfection. 👑✨\n",
    "\n",
    "##### Outfit 3: Greece Casual\n",
    "This is such a vibeeee. Like picture this: stone ruins, ocean breeze, and she said \"I am the goddess framed by history.\" The red top + white skirt combo is casual but chef’s kiss Mediterranean chic. That patterned crossbody bag is the artsy touch—giving “I backpack through Europe and journal about my soul.” Honestly, this is effortless cool-girl travel fashion. 9/10.\n",
    "\n",
    "###### My comments\n",
    "\n",
    "I think that the LLM did a great job with the persona, but not as good of a job relating the image to the description. It picked up on one or two key characteristics of the outfit and focused more on talking/acting like a specific person rather than providing the review. An actual fashion influencer would not behave stereotypically as much.\n",
    "\n",
    "### 3. Supportive Friend\n",
    "\n",
    "> Prompt for each outfit: “Describe, rate, and roast this outfit like my friend who supports me through anything, who’s known me forever, and will not lie to protect my feelings.”\n",
    "\n",
    "##### Outfit 1: Winter Sweater\n",
    "📍 Cozy vibes in front of the Christmas tree.\n",
    "Description: The oversized striped turtleneck screams “I’m warm, I’m comfy, and fashion is optional today.” It’s giving college finals week chic. Paired with the little pink bag, though, you low-key look like you’re on your way to brunch after acing those exams.\n",
    "\n",
    "Rating: 7.5/10. Cute and cozy, but the sweater is kinda swallowing you whole.\n",
    "\n",
    "Roast: Girl… you look like you stole this sweater from a dad named Carl who fixes cars on the weekend. But somehow, you still managed to make “dad-core” look Instagrammable. That’s talent.\n",
    "\n",
    "##### Outfit 2: Greece Casual\n",
    "📍 Arms in the air by the sea.\n",
    "Description: Red sleeveless top, flowy white skirt, and a bold patterned crossbody bag. Very “wanderlust study abroad catalog cover.”\n",
    "\n",
    "Rating: 8/10. Carefree and cute, but that bag is doing way too much.\n",
    "\n",
    "Roast: You look like you were two seconds away from shouting “OPA!” and tripping into the water. The outfit is vacation-perfect, but the bag? It’s giving “I bought this from the gift shop so I could blend in with locals,” but instead you stood out like the tourist you are.\n",
    "\n",
    "##### Outfit 3: Cultural Clothing\n",
    "📍 Bright pink lehenga with gold embroidery.\n",
    "Description: Absolutely stunning. The embroidery, the dupatta drape, the matching round bag — it’s all working. This is main character energy.\n",
    "\n",
    "Rating: 11/10. No notes.\n",
    "\n",
    "Roast: Honestly, roasting this feels illegal. The only critique I have is that you’re out here making everyone else at the event look like they got their outfit off Amazon for $39.99. It’s unfair.\n",
    "\n",
    "###### My comments\n",
    "\n",
    "Again, similar to the TikTok fashion influencer persona, the LLM seems to focus more on the character rather than the description. I think that a more human-like response would include a more normal opinion on the outfits with one or two words or maybe even just a slight tone that would indicate a persona."
   ]
  },
  {
   "cell_type": "markdown",
   "id": "e197fad6-7732-4bea-aa02-ab78e870dab6",
   "metadata": {},
   "source": [
    "## Final Takeaways\n",
    "\n",
    "SO, can GPT “see” fashion from a description?\n",
    "\n",
    "Seems like it!\n",
    "\n",
    "The LLM was able to describe the outfit well and used image traits to convey specific opinions. By taking on different personas, ChatGPT clearly formed unique thoughts about the outfits even though the look was the same. This makes me believe that the LLM may actually be thinking rather than just copy pasting pixel descriptions from the model it is trained on.\n",
    "\n",
    "Maybe next I could prompt it to build outfits based on a pre-existing fashion sense...\n",
    "\n"
   ]
  },
  {
   "cell_type": "markdown",
   "id": "a24a9861-9044-4573-b5e9-727f9435ec9d",
   "metadata": {},
   "source": [
    "Stay fashionably self-aware,\n",
    " \n",
    "Mallika"
   ]
  },
  {
   "cell_type": "code",
   "execution_count": null,
   "id": "dd8bd6a5-19d8-4a2e-b6aa-632f42567042",
   "metadata": {},
   "outputs": [],
   "source": []
  }
 ],
 "metadata": {
  "kernelspec": {
   "display_name": "Python 3-12 (COMM4190)",
   "language": "python",
   "name": "python3-12_comm4190"
  },
  "language_info": {
   "codemirror_mode": {
    "name": "ipython",
    "version": 3
   },
   "file_extension": ".py",
   "mimetype": "text/x-python",
   "name": "python",
   "nbconvert_exporter": "python",
   "pygments_lexer": "ipython3",
   "version": "3.12.11"
  }
 },
 "nbformat": 4,
 "nbformat_minor": 5
}
