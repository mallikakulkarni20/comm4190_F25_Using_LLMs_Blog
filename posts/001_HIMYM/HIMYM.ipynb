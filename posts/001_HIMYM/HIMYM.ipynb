{
 "cells": [
  {
   "cell_type": "raw",
   "id": "7e297a23-5e4d-4c0c-ac25-4033697e642f",
   "metadata": {},
   "source": [
    "---\n",
    "title: \"How I Met Your Modor\"\n",
    "description: \"Can an LLM be creative, does it understand the complexities of language and pop culture over time, and can transform a famous script?\" \n",
    "author: \"Mallika Kulkarni\"\n",
    "date: \"9/7/2025\"\n",
    "categories:\n",
    "  - LLMs\n",
    "  - Pop Culture\n",
    "  - Tone\n",
    "---"
   ]
  }
 ],
 "metadata": {
  "kernelspec": {
   "display_name": "Python 3-12 (COMM4190)",
   "language": "python",
   "name": "python3-12_comm4190"
  },
  "language_info": {
   "codemirror_mode": {
    "name": "ipython",
    "version": 3
   },
   "file_extension": ".py",
   "mimetype": "text/x-python",
   "name": "python",
   "nbconvert_exporter": "python",
   "pygments_lexer": "ipython3",
   "version": "3.12.11"
  }
 },
 "nbformat": 4,
 "nbformat_minor": 5
}
