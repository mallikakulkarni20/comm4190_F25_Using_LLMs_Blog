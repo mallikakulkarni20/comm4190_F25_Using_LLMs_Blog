{
 "cells": [
  {
   "cell_type": "raw",
   "id": "0848d3a4-ddd3-40b1-95be-76360e7c46ce",
   "metadata": {},
   "source": [
    "---\n",
    "title: \"Can AI Spot the Next It-Bag?\"\n",
    "description: \"Can an LLM do real-world trend analysis\" \n",
    "author: \"Mallika Kulkarni\"\n",
    "date: \"9/7/2025\"\n",
    "categories:\n",
    "  - LLMs\n",
    "  - Pop Culture\n",
    "  - Trends\n",
    "---"
   ]
  },
  {
   "cell_type": "markdown",
   "id": "d3811622-31f2-4652-980b-48d8fc8c912d",
   "metadata": {},
   "source": [
    "![](bag.webp)\n",
    "## Background\n",
    "\n",
    "Fashion trend forecasters spend their lives determining what styles will be trending based on **underlying cultural shifts**. Not only do they use data to identify patterns and create insights, they are able to connect the dots between history, identity, and lived observation, to predict the next big fashion trend.\n",
    "\n",
    "For example, the **WhoWhatWear** blog, indicated that “fashion, like all industries, follows society's course. Claiming that as we are living in the “dark ages,” our wardrobes will match the energy, leading to the trend of dark and gothic fall fashion.\n",
    "\n",
    "In fashion, trends are predicted from just data points. They’re the product of cultural barometers.\n",
    "\n",
    "Today, we’ll test whether AI can generate reasoning in fashion trend forecasting beyond what it sees in massive datasets like e-commerce sales, social media hashtags, and fashion show transcripts. **Can LLMs capture the cultural narrative in fashion?**\n"
   ]
  },
  {
   "cell_type": "markdown",
   "id": "eb906074-6867-45ad-b0cb-04e251a32033",
   "metadata": {},
   "source": [
    "## Setup\n",
    "\n",
    "I used GPT-4o and prompted it with the following:\n",
    "\n",
    "> Prompt: I’m shopping for Winter 2025. Can you predict what will be trendy in the fashion world?\n",
    "\n",
    "ChatGPT gave me a list of the following 10 fashion trends based on its forecasting abilities\n",
    "1. Oversized Moto Jacket\n",
    "2. Minimalist Flat Knee-High Boots\n",
    "3. Balloon Pants\n",
    "4. Victorian Lace\n",
    "5. Matching Sets\n",
    "6. Bold Color Combinations\n",
    "7. Cozy Maximalism\n",
    "8. Faux Fur\n",
    "9. Opera Coats\n",
    "10. Scarf Details\n",
    "\n",
    "While ChatGPT was able to grab what it believed to be the new trends for Winter 2025 from various online fashion sources. I **then asked ChatGPT to generate its own predictions**, wondering if instead ChatGPT would resort to analyzing datasets rather than pulling from existing trend predictions.\n",
    "\n",
    "> ChatGPT gave me a new list of 10 fashion trends with their corresponding reasonings.\n",
    "\n",
    "1. Tech-Enhanced Outerwear: As wearable tech becomes mainstream, consumers are looking for clothing that combines style and functionality. Winter outerwear is the perfect canvas for this, merging comfort, warmth, and utility.\n",
    "2. Architectural Boots: Footwear is increasingly seen as a statement piece. Minimalism is taking a backseat to bold, art-inspired designs, appealing to Gen Z and social media-savvy shoppers.\n",
    "3. Maxi Knit Dresses with Layered Textures: Comfort remains key, but consumers want elevated casualwear that looks put-together for hybrid work and online visibility.\n",
    "4. Neo-Animal Prints: Prints are getting more playful and futuristic, moving beyond traditional neutrals, reflecting the desire for self-expression post-pandemic.\n",
    "5. Color-Blocking with Neon Accents: Consumers want winter clothes that stand out without screaming “loud.” Strategic neon placement energizes outfits while keeping them wearable.\n",
    "6. Convertible Accessories: With sustainability and versatility top-of-mind, multi-use items allow people to reduce wardrobe clutter while staying fashionable.\n",
    "7. Oversized Layered Shearling: Shearling offers warmth and luxury, and oversized silhouettes satisfy the ongoing love for “cocooning” and comfort-focused fashion.\n",
    "8. Wide-Leg Utility Trousers: Utility meets streetwear—functionality is still fashionable, but consumers want it reimagined with a high-fashion edge.\n",
    "9. Mini Bags with Maximal Impact: Accessories are evolving into art pieces. Mini bags are eye-catching and perfect for social media aesthetics.\n",
    "10. Mood-Adaptive Fabrics: Fashion is becoming interactive. Consumers love novelty and personalization, and these fabrics deliver a futuristic, playful edge for winter wardrobes.\n",
    "\n",
    "## Takeaways\n",
    "\n",
    "Although ChatGPT did a great job synthesizing trend predictions from across the internet, it struggled a bit more to add a human touch to its own predictions. LLMs are very valuable tools in identifying trend patterns and generating culturally informed ideas, however they lack lived experience and nuanced cultural intuition that keeps them from predicting the next “It-bag”. Because of this, humans still lead the way in fashion trend forecasting.\n"
   ]
  },
  {
   "cell_type": "markdown",
   "id": "bbfef696-74b9-4394-ba7c-c556f52a4048",
   "metadata": {},
   "source": [
    "Keep calm and keep predicting,\n",
    "\n",
    "Mallika"
   ]
  },
  {
   "cell_type": "code",
   "execution_count": null,
   "id": "0bc0e94c-1144-4ca4-b8da-7f349ef82fcb",
   "metadata": {},
   "outputs": [],
   "source": []
  }
 ],
 "metadata": {
  "kernelspec": {
   "display_name": "Python 3-12 (COMM4190)",
   "language": "python",
   "name": "python3-12_comm4190"
  },
  "language_info": {
   "codemirror_mode": {
    "name": "ipython",
    "version": 3
   },
   "file_extension": ".py",
   "mimetype": "text/x-python",
   "name": "python",
   "nbconvert_exporter": "python",
   "pygments_lexer": "ipython3",
   "version": "3.12.11"
  }
 },
 "nbformat": 4,
 "nbformat_minor": 5
}
