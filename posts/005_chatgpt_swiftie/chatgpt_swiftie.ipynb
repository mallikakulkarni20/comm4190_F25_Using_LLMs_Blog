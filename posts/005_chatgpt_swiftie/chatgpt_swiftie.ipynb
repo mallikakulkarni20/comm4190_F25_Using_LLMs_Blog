{
 "cells": [
  {
   "cell_type": "raw",
   "id": "3c9b29f8-ee9f-41fd-a83a-5e52be704d34",
   "metadata": {},
   "source": [
    "---\n",
    "title: \"Is ChatGPT a Swiftie?\"\n",
    "description: \"Can an LLM be as obsessed with pop culture as one of the largest fanbases in the world?\" \n",
    "author: \"Mallika Kulkarni\"\n",
    "date: \"9/16/2025\"\n",
    "categories:\n",
    "  - LLMs\n",
    "  - Pop Culture\n",
    "  - Lyrics\n",
    "---"
   ]
  },
  {
   "cell_type": "markdown",
   "id": "38baa58b-fd96-4b42-8c3f-28a8ff215ced",
   "metadata": {},
   "source": [
    "![](swift.jpeg)"
   ]
  },
  {
   "cell_type": "markdown",
   "id": "d970085a-42f1-4f01-8524-6683d1e5d48a",
   "metadata": {},
   "source": [
    "## Background\n",
    "Taylor Swift is a master of musical metaphors. She leaves her fans with riddles and puzzles to solve through her songs. The song Death by a Thousand Cuts, specifically has a large number of metaphors and ties to her past discography all analyzed by humans in Genius, the world's biggest collection of song lyrics and musical knowledge.\n",
    "\n",
    "Today, we’ll test whether AI can do more than just analyze but also **understand the lived experience and emotional context** behind Taylor Swift’s music.\n",
    "\n",
    "## Setup\n",
    "\n",
    "I asked ChatGPT 5 to translate the lyrics in Death by a Thousand Cuts, line by line, to see whether it would be able to provide a similar level of depth as the Swifties contributing to the song’s Genius lyric annotations."
   ]
  },
  {
   "cell_type": "markdown",
   "id": "26e726ea-4f64-4b08-b8e2-0d37b50eb045",
   "metadata": {},
   "source": [
    "## An LLM's analysis vs a fan's obsession\n",
    "\n",
    "### Intro\n",
    "My, my, my, my\n",
    "> LLM: Repetition establishes a breathy, almost hypnotic opening — like someone taking stock of themselves. Sets a chanty, confessional mood.\n",
    "\n",
    "My, my, my, my\n",
    "> LLM: (Repeat) Reinforces an internal, circular thought — the speaker is stuck in the same orbit of feeling.\n",
    "\n",
    "My, my, my, my\n",
    "> LLM: (Repeat) The insistence creates tension: small words but big emotional weight.)\n",
    "\n",
    "My, my, my, my\n",
    "> LLM: (Repeat) Feels like a mantra; musically it gives the singer space to play with phrasing and vulnerability.)\n",
    "\n",
    "My, my, my, my\n",
    "> LLM: (Repeat) The continued echo suggests obsession or a looped memory — the beginning of processing loss.)\n",
    "\n",
    "**From Genius:**\n",
    "> \"This intro foreshadows the bridge of the song, on which Swift lists what she risked for the now-ex lover she speaks of. In addition, a popular fan theory ties this intro to the lyric “you’re my, my, my, my lover” from the album’s title track. Since this is a breakup song, Swift is no longer able to call this lover hers, so she frustratedly repeats “my,” hoping to find him again.\" "
   ]
  },
  {
   "cell_type": "markdown",
   "id": "3c819521-6317-47d6-8b17-3a07a3ae90a9",
   "metadata": {},
   "source": [
    "### Chorus\n",
    "Saying goodbye is death by a thousand cuts\n",
    "> LLM: Central metaphor: breakups aren’t one big event but many small painful moments. Strong, memorable phrase that frames the whole song.\n",
    "\n",
    "Flashbacks waking me up\n",
    "> LLM: Concrete image of intrusive memory; “waking” implies the memories invade both mind and sleep — physical and psychological pain.\n",
    "\n",
    "I get drunk, but it's not enough\n",
    "> LLM: Self-medication fails; drink is a classic temporary escape that can’t erase emotional injury — honest and relatable admission.\n",
    "\n",
    "’Cause the morning comes and you're not my baby\n",
    "> LLM: Morning as reality check — nighttime dulls the pain but daylight brings clarity (and loneliness). “Not my baby” is plain and gutting.\n",
    "\n",
    "**From Genius**\n",
    "> In the Netflix film Someone Great, which serves as the inspiration for this song, the protagonist’s relationship with her ex-boyfriend is shown through flashbacks, brought on by seeing different reminders of her past. Throughout the movie, the protagonist periodically gets drunk and high, in an effort to deal with the pain of the failed relationship."
   ]
  },
  {
   "cell_type": "markdown",
   "id": "b0bd37ca-2ecd-4f57-bb58-8a9357cc6224",
   "metadata": {},
   "source": [
    "### Bridge\n",
    "My heart, my hips, my body, my love\n",
    "> LLM: Cataloging the parts of self involved — physical and emotional. The list is intimate and rhythmic, almost liturgical.\n",
    "\n",
    "Tryna find a part of me that you didn't touch\n",
    "> LLM: “Touched” functions both literally and metaphorically: intimacy and influence. Searching for untouched ground suggests violation or full absorption by the relationship.\n",
    "\n",
    "Gave up on me like I was a bad drug\n",
    "> LLM: Sharp simile indicating discard and moral judgment; “bad drug” is addictive but ultimately harmful — shows betrayal and disposability.\n",
    "\n",
    "Now I'm searching for signs in a haunted club\n",
    "> LLM: “Haunted club” is evocative: places tied to the relationship now feel ghostly. “Searching for signs” implies looking for meaning or clues to what went wrong.\n",
    "\n",
    "Our songs, our films, united we stand\n",
    "> LLM: Lists cultural markers of togetherness — playlists and movie references are the small building blocks of coupleship.\n",
    "\n",
    "Our country, guess it was a lawless land\n",
    "> LLM: Darkly witty pivot: what felt like shared sovereignty actually lacked rules that protected them — exaggerates breakdown of trust and order.\n",
    "\n",
    "**From Genius**\n",
    "> This motif of physical touch–perhaps an allusion to sex–ties into the idea of a thousand cuts. With every touch, Swift’s partner cut her emotionally. Metaphors relating to bodies are common in Swift’s other songs. In “Cornelia Street,” the track immediately before this, Swift creates an extended metaphor about her partner holding cards, culminating in a symbolic phone call."
   ]
  },
  {
   "cell_type": "markdown",
   "id": "b82600da-8fca-475a-9113-6dc0af80d5fa",
   "metadata": {},
   "source": [
    "## Analysis & Takeaways\n",
    "\n",
    "For reference, I sampled some of the most impactful parts of the song, rather than each line because it is quite long. By including parts of the intro, chorus, and bridge, I was able to get a well-rounded view between an LLM's analysis of a song and a fan's.\n",
    "\n",
    "It is clear to me that an LLM simply does not have a fan's touch. The obsession and internet sleuthing and references that a fan can build over time is not inherent to the LLM. GPT-5 instead focused on how the lyric may mean to society and does not place any personalized aspect in its descriptions. "
   ]
  },
  {
   "cell_type": "markdown",
   "id": "9e8d39e5-2e3f-49ab-8efb-92ebda13c4c3",
   "metadata": {},
   "source": [
    "Let the fans prevail,\n",
    "\n",
    "Mallika"
   ]
  },
  {
   "cell_type": "code",
   "execution_count": null,
   "id": "670734b7-19ed-4f7b-bfc6-9ef6afdad4c9",
   "metadata": {},
   "outputs": [],
   "source": []
  },
  {
   "cell_type": "code",
   "execution_count": null,
   "id": "1d05eb1b-ba05-4b72-8c72-6e8c69969605",
   "metadata": {},
   "outputs": [],
   "source": []
  }
 ],
 "metadata": {
  "kernelspec": {
   "display_name": "Python 3-12 (COMM4190)",
   "language": "python",
   "name": "python3-12_comm4190"
  },
  "language_info": {
   "codemirror_mode": {
    "name": "ipython",
    "version": 3
   },
   "file_extension": ".py",
   "mimetype": "text/x-python",
   "name": "python",
   "nbconvert_exporter": "python",
   "pygments_lexer": "ipython3",
   "version": "3.12.11"
  }
 },
 "nbformat": 4,
 "nbformat_minor": 5
}
