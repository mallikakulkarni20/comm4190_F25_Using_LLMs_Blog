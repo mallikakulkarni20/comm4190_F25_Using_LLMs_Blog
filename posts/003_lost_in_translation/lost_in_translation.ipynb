{
 "cells": [
  {
   "cell_type": "code",
   "execution_count": null,
   "id": "e13cfb42-6318-4cbe-8d5b-f8d0ec87ae5b",
   "metadata": {},
   "outputs": [],
   "source": [
    "---\n",
    "title: \"Lost in Translation\"\n",
    "description: \"How far can language bend before it breaks?\" \n",
    "author: \"Mallika Kulkarni\"\n",
    "date: \"9/8/2025\"\n",
    "categories:\n",
    "  - Language\n",
    "  - Sentiment\n",
    "---"
   ]
  },
  {
   "cell_type": "markdown",
   "id": "92f26a94-3339-476d-a814-ef4c631493d2",
   "metadata": {},
   "source": [
    "## Background\n",
    "\n",
    "How far can language bend before it breaks? Technically forever. Common consensus is that with language anything can be communicated, so meaning should be consistent among translation. Human sentiment can be one of the most important things with language and **we must test whether an LLM can interpret that sentiment**. Otherwise, it will fail with repeated translation.\n",
    "\n",
    "I used some of the most commonly spoken languages in order to favor the GPT as much as possible.\n",
    "In this experiment, I ran several English paragraphs through a **language** chain using Claude because Anthropic has tested better for language skills:\n",
    "\n",
    "#### English → Hindi → Spanish → back to English\n",
    "\n",
    "My goal was to test **prompt chaining** across different types of text and see how meaning and nuance is interpreted by LLMs."
   ]
  },
  {
   "cell_type": "markdown",
   "id": "0c3ee57e-e61d-4d5e-884b-80b6ea24dfcd",
   "metadata": {},
   "source": [
    "## Setup\n",
    "\n",
    "For each test, I used GPT-4o and prompted it to do the following:\n",
    "\n",
    "Translate the source paragraph from English to Hindi, then translate that Hindi paragraph to Spanish, then translate that Spanish back to English.\n",
    "\n",
    "\n",
    "\n",
    "I conducted these translations separately, by copy and pasting into different prompting chats. This way GPT retained no knowledge between past prompt and did not just recall an earlier prompt.\n",
    "All translations were done separately, in sequence. I also want to be able to see this linguistic drift in 2 different contexts: a very casual conversation as well as a technical conversation. I predict that there will be less drift in a technical conversation because it will rely more on direct word translation.\n"
   ]
  },
  {
   "cell_type": "markdown",
   "id": "25c2858f-537b-44d8-8a15-7e443b30a7dc",
   "metadata": {},
   "source": [
    "## Technical Script\n",
    "\n",
    "### Original Script\n",
    "A hash table provides average-case constant-time complexity for insertions and lookups, assuming a good hash function with minimal collisions.\n",
    "\n",
    "### Translated to Hindi\n",
    "एक हैश टेबल इन्सर्शन और लुकअप के लिए औसत-केस स्थिर-समय जटिलता प्रदान करती है, बशर्ते कि एक अच्छा हैश फंक्शन हो जिसमें न्यूनतम कॉलिजन हों।\n",
    "Transliteration:\n",
    "Ek hash table insertion aur lookup ke liye ausat-case sthir-samay jatilta pradan karti hai, basharte ki ek accha hash function ho jismein nyuntam collision hon.\n",
    "\n",
    "### Translated to Spanish\n",
    "Una tabla hash proporciona complejidad de tiempo constante en caso promedio para inserción y búsqueda, siempre que tenga una buena función hash con colisiones mínimas.\n",
    "\n",
    "### Translated back to English\n",
    "A hash table provides constant time complexity on average for insertion and search, as long as it has a good hash function with minimal collisions.\n"
   ]
  },
  {
   "cell_type": "markdown",
   "id": "27be2c5d-287a-4e69-a077-d06571bd42ee",
   "metadata": {},
   "source": [
    "## Casual Script\n",
    "\n",
    "### Original Script\n",
    "Okay but like… if you respond with ‘lol’ one more time, I’m gonna assume you actually hate me and you’re just being polite about it.\n",
    "\n",
    "### Translated to Hindi\n",
    "\"ठीक है लेकिन यार... अगर तुमने एक बार और 'lol' से जवाब दिया, तो मैं समझ जाऊंगा कि तुम सच में मुझसे नफरत करते हो और बस शिष्टाचार के लिए बात कर रहे हो।\"\n",
    "\n",
    "### Translated to Spanish\n",
    "\"Está bien, pero hermano... si respondes con 'lol' una vez más, entenderé que realmente me odias y solo estás hablando por cortesía.\"\n",
    "\n",
    "### Translated back to English\n",
    "\"It's okay, but brother... if you respond with 'lol' one more time, I'll understand that you really hate me and are only talking out of courtesy.\"\n",
    "\n"
   ]
  },
  {
   "cell_type": "markdown",
   "id": "278342b5-cc3a-42eb-9dad-d8b5daf80b44",
   "metadata": {},
   "source": [
    "## Takeaways\n",
    "The hypothesis I posed at the beginning seems fairly accurate. The translation loop gets broken in the casual script because an LLM cannot capture the nuance of language and slang across multiple languages. However, I will note that an LLM performs comparably to Google Translate which is pretty industry leading in free text translation tools. GPT is a solid translator word-for-word, but context and nuance can get scrambled fast. Languages like Hindi and Spanich carry their own cultural assumptions and syntactic structures; LLMs don’t always account for that drift."
   ]
  },
  {
   "cell_type": "markdown",
   "id": "d3656286-7e2a-4bb8-ba1a-a5a2a68f60a4",
   "metadata": {},
   "source": [
    "Thanks for translating with me,\n",
    "मेरे साथ अनुवाद करने के लिए धन्यवाद,\n",
    "Gracias por traducir conmigo,\n",
    "\n",
    "Mallika"
   ]
  }
 ],
 "metadata": {
  "kernelspec": {
   "display_name": "Python 3-12 (COMM4190)",
   "language": "python",
   "name": "python3-12_comm4190"
  },
  "language_info": {
   "codemirror_mode": {
    "name": "ipython",
    "version": 3
   },
   "file_extension": ".py",
   "mimetype": "text/x-python",
   "name": "python",
   "nbconvert_exporter": "python",
   "pygments_lexer": "ipython3",
   "version": "3.12.11"
  }
 },
 "nbformat": 4,
 "nbformat_minor": 5
}
